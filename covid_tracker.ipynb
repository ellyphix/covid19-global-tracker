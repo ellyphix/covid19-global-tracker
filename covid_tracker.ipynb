{
 "cells": [
  {
   "cell_type": "markdown",
   "metadata": {},
   "source": [
    "# COVID-19 Global Data Tracker\n",
    "\n",
    "This notebook analyzes global COVID-19 trends, using data from Our World In Data.\n",
    "We will explore cases, deaths, and vaccinations across countries and time.\n",
    "\n",
    "**Objectives:**\n",
    "- Import and clean COVID-19 data\n",
    "- Analyze time trends\n",
    "- Compare country metrics\n",
    "- Visualize trends with charts\n",
    "- (Optional) Build interactive dashboard with Streamlit"
   ]
  },
  {
   "cell_type": "code",
   "execution_count": null,
   "metadata": {},
   "outputs": [],
   "source": [
    "# Step 1: Import Libraries\n",
    "import pandas as pd\n",
    "import matplotlib.pyplot as plt\n",
    "import seaborn as sns\n",
    "\n",
    "# Load dataset\n",
    "df = pd.read_csv('owid-covid-data.csv')\n",
    "df['date'] = pd.to_datetime(df['date'])\n",
    "df.head()"
   ]
  },
  {
   "cell_type": "code",
   "execution_count": null,
   "metadata": {},
   "outputs": [],
   "source": [
    "# Step 2: Clean Dataset\n",
    "df = df[df['location'].isin(['Kenya', 'United States', 'India'])]\n",
    "df = df.dropna(subset=['date', 'total_cases'])\n",
    "df['total_cases'] = df['total_cases'].fillna(method='ffill')\n",
    "df['total_deaths'] = df['total_deaths'].fillna(method='ffill')\n",
    "df['total_vaccinations'] = df['total_vaccinations'].fillna(method='ffill')\n",
    "df.isnull().sum()"
   ]
  },
  {
   "cell_type": "code",
   "execution_count": null,
   "metadata": {},
   "outputs": [],
   "source": [
    "# Step 3: Basic Stats\n",
    "df.describe()"
   ]
  },
  {
   "cell_type": "code",
   "execution_count": null,
   "metadata": {},
   "outputs": [],
   "source": [
    "# Step 4: Visualizations\n",
    "plt.figure(figsize=(10,6))\n",
    "for country in ['Kenya', 'United States', 'India']:\n",
    "    country_df = df[df['location'] == country]\n",
    "    plt.plot(country_df['date'], country_df['total_cases'], label=country)\n",
    "plt.legend()\n",
    "plt.title('Total COVID-19 Cases Over Time')\n",
    "plt.xlabel('Date')\n",
    "plt.ylabel('Total Cases')\n",
    "plt.show()"
   ]
  }
 ],
 "metadata": {
  "kernelspec": {
   "display_name": "Python 3",
   "language": "python",
   "name": "python3"
  },
  "language_info": {
   "name": "python",
   "version": "3.9"
  }
 },
 "nbformat": 4,
 "nbformat_minor": 2
}
